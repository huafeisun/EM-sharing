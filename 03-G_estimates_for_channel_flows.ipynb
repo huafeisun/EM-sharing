{
 "cells": [
  {
   "cell_type": "code",
   "execution_count": 1,
   "metadata": {
    "collapsed": false
   },
   "outputs": [
    {
     "name": "stdout",
     "output_type": "stream",
     "text": [
      "Using matplotlib backend: MacOSX\n",
      "Populating the interactive namespace from numpy and matplotlib\n"
     ]
    }
   ],
   "source": [
    "%pylab"
   ]
  },
  {
   "cell_type": "code",
   "execution_count": 2,
   "metadata": {
    "collapsed": false
   },
   "outputs": [
    {
     "name": "stdout",
     "output_type": "stream",
     "text": [
      "\n",
      "Depth averaged G [s^-1] = 15.8850156679\n"
     ]
    }
   ],
   "source": [
    "### inputs ----------------------------\n",
    "h= 20 #depth in meters\n",
    "ustar = 0.1#shear velocity in m/s\n",
    "## ------------------------------------\n",
    "\n",
    "nu=1e-6\n",
    "kappa=0.41\n",
    "rho=1000.\n",
    "\n",
    "G=linspace(0,1,100)\n",
    "zeta=linspace(0,1,100)\n",
    "mask=arange(99)\n",
    "mask=mask+1\n",
    "dzeta=zeta[1]-zeta[0]\n",
    "\n",
    "G[1:]=((ustar**3/(kappa*nu*h))*(1-zeta[1:])/zeta[1:])**(1/2)\n",
    "\n",
    "int_G = sum(dzeta*G[1:])/(1-zeta[1])\n",
    "print ('')\n",
    "print ('Depth averaged G [s^-1] =', int_G)\n",
    "\n",
    "zeta2=linspace(0,1,2)\n",
    "Gavg=linspace(0,1,2)\n",
    "Gavg[:]=int_G"
   ]
  },
  {
   "cell_type": "code",
   "execution_count": 3,
   "metadata": {
    "collapsed": false
   },
   "outputs": [
    {
     "data": {
      "text/plain": [
       "<matplotlib.text.Text at 0x10dfab9b0>"
      ]
     },
     "execution_count": 3,
     "metadata": {},
     "output_type": "execute_result"
    }
   ],
   "source": [
    "# plot the profile and depth-avg ---------------------\n",
    "textstr = '$h = %.2f [m]$\\n$u_* = %.2f [Pa]$'%(h, ustar)\n",
    "textstr2 = r'$\\widetilde{G}=%.1f$'%(int_G)\n",
    "#figure()\n",
    "figure(figsize=(4,4))\n",
    "plot(G[mask],zeta[mask], 'b-',label =r'$G=G(z)$')\n",
    "plot(Gavg,zeta2, 'r-',label =textstr2)\n",
    "xlabel('$G$ [$s^{-1}$]')\n",
    "ylabel('$\\zeta=z/h$')\n",
    "legend(title=textstr, fontsize='12')\n",
    "props = dict(facecolor='white',edgecolor='none', alpha=1)\t\n",
    "text(int_G, 0.1, textstr2, fontsize=12, verticalalignment='top', horizontalalignment='center', bbox=props)"
   ]
  },
  {
   "cell_type": "code",
   "execution_count": 80,
   "metadata": {
    "collapsed": true
   },
   "outputs": [],
   "source": [
    "savefig('Gprofile.pdf')"
   ]
  },
  {
   "cell_type": "code",
   "execution_count": null,
   "metadata": {
    "collapsed": true
   },
   "outputs": [],
   "source": []
  }
 ],
 "metadata": {
  "kernelspec": {
   "display_name": "Python 3",
   "language": "python",
   "name": "python3"
  },
  "language_info": {
   "codemirror_mode": {
    "name": "ipython",
    "version": 3
   },
   "file_extension": ".py",
   "mimetype": "text/x-python",
   "name": "python",
   "nbconvert_exporter": "python",
   "pygments_lexer": "ipython3",
   "version": "3.4.3"
  }
 },
 "nbformat": 4,
 "nbformat_minor": 0
}
